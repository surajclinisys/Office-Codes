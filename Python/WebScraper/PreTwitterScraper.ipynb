{
 "cells": [
  {
   "cell_type": "code",
   "execution_count": 1,
   "id": "a9dec865",
   "metadata": {},
   "outputs": [
    {
     "name": "stderr",
     "output_type": "stream",
     "text": [
      "C:\\Users\\suraj\\AppData\\Local\\Temp\\ipykernel_1508\\981734905.py:31: DeprecationWarning: Selenium Tools for Microsoft Edge is deprecated. Please upgrade to Selenium 4 which has built-in support for Microsoft Edge (Chromium): https://docs.microsoft.com/en-us/microsoft-edge/webdriver-chromium/#upgrading-from-selenium-3\n",
      "  driver = Edge(options=options)\n"
     ]
    }
   ],
   "source": [
    "import csv\n",
    "from selenium import webdriver\n",
    "from getpass import getpass\n",
    "from time import sleep\n",
    "from selenium.webdriver.common.keys import Keys\n",
    "from selenium.common.exceptions import NoSuchElementException\n",
    "from msedge.selenium_tools import Edge\n",
    "from msedge.selenium_tools import EdgeOptions\n",
    "\n",
    "\n",
    "# collecting tweets\n",
    "def get_tweet(card):\n",
    "    username = card.find_element(\"xpath\", './div[1]//span').text\n",
    "    handle = card.find_element(\"xpath\", './div[1]//span[contains(text(),\"@\")]').text\n",
    "    try:\n",
    "        postdate = card.find_element(\"xpath\", './div[1]//time').get_attribute('datetime')\n",
    "    except NoSuchElementException:\n",
    "        return\n",
    "    text = card.find_element(\"xpath\", './div[2]/div[1]/div[1]').text\n",
    "    reply_cnt = card.find_element(\"xpath\", './/div[@data-testid=\"reply\"]').text\n",
    "    retweet_cnt = card.find_element(\"xpath\", './/div[@data-testid=\"retweet\"]').text\n",
    "    like_cnt = card.find_element(\"xpath\", './/div[@data-testid=\"like\"]').text\n",
    "\n",
    "    tweet = (username, handle, postdate, text, reply_cnt, retweet_cnt, like_cnt)\n",
    "    return tweet\n",
    "\n",
    "\n",
    "# opening browser\n",
    "options = EdgeOptions()\n",
    "options.use_chromium = True\n",
    "driver = Edge(options=options)\n",
    "\n",
    "# login into tweeter\n",
    "driver.get(\"https://www.twitter.com/login\")\n",
    "driver.maximize_window()\n",
    "sleep(10)\n",
    "username = driver.find_element(\"xpath\", '//input[@name=\"text\"]')\n",
    "username.send_keys('Lalit14561844')\n",
    "username.send_keys(Keys.RETURN)\n",
    "sleep(5)\n",
    "password = driver.find_element(\"xpath\", '//input[@name=\"password\"]')\n",
    "password.send_keys('twitter@2002')\n",
    "password.send_keys(Keys.RETURN)\n",
    "sleep(3)\n",
    "\n",
    "\n"
   ]
  },
  {
   "cell_type": "code",
   "execution_count": 16,
   "id": "0fefec68",
   "metadata": {},
   "outputs": [],
   "source": [
    "# navigating to the trending page\n",
    "search_input = driver.find_element(\"xpath\", '//input[@aria-label=\"Search query\"]')\n",
    "search_input.send_keys('Queen Elizabeth')\n",
    "search_input.send_keys(Keys.RETURN)\n",
    "sleep(3)\n",
    "driver.find_element(\"link text\", \"Latest\").click()\n",
    "sleep(3)\n",
    "\n",
    "# all tweets are in here\n",
    "data = []\n",
    "tweet_ids = set()\n",
    "last_pos = driver.execute_script(\"return window.pageYOffset;\")\n",
    "scrolling = True\n",
    "\n"
   ]
  },
  {
   "cell_type": "code",
   "execution_count": 17,
   "id": "eb2229aa",
   "metadata": {},
   "outputs": [
    {
     "ename": "StaleElementReferenceException",
     "evalue": "Message: stale element reference: element is not attached to the page document\n  (Session info: MicrosoftEdge=105.0.1343.27)\nStacktrace:\nBacktrace:\n\tMicrosoft::Applications::Events::EventProperties::SetProperty [0x00007FF6FAB32352+17554]\n\tMicrosoft::Applications::Events::EventProperty::EventProperty [0x00007FF6FAACECA2+1438690]\n\tOrdinal0 [0x00007FF6FA6F9345+627525]\n\tOrdinal0 [0x00007FF6FA6FCA3A+641594]\n\tOrdinal0 [0x00007FF6FA6FC7BB+640955]\n\tOrdinal0 [0x00007FF6FA6FCB70+641904]\n\tOrdinal0 [0x00007FF6FA731E81+859777]\n\tOrdinal0 [0x00007FF6FA753C2A+998442]\n\tOrdinal0 [0x00007FF6FA72B144+831812]\n\tOrdinal0 [0x00007FF6FA753F30+999216]\n\tOrdinal0 [0x00007FF6FA768BF9+1084409]\n\tOrdinal0 [0x00007FF6FA753A43+997955]\n\tOrdinal0 [0x00007FF6FA7294C0+824512]\n\tOrdinal0 [0x00007FF6FA72A9F8+829944]\n\tMicrosoft::Applications::Events::EventProperty::EventProperty [0x00007FF6FA990588+134344]\n\tMicrosoft::Applications::Events::EventProperty::EventProperty [0x00007FF6FA979EB5+42485]\n\tMicrosoft::Applications::Events::EventProperty::EventProperty [0x00007FF6FA97CF9C+55004]\n\tOrdinal0 [0x00007FF6FA7E2E94+1584788]\n\tMicrosoft::Applications::Events::EventProperty::EventProperty [0x00007FF6FAAD43EB+1461035]\n\tMicrosoft::Applications::Events::EventProperty::EventProperty [0x00007FF6FAAD83B4+1477364]\n\tMicrosoft::Applications::Events::EventProperty::EventProperty [0x00007FF6FAAD850D+1477709]\n\tMicrosoft::Applications::Events::EventProperty::EventProperty [0x00007FF6FAAE04D9+1510425]\n\tBaseThreadInitThunk [0x00007FFD8C697034+20]\n\tRtlUserThreadStart [0x00007FFD8D182651+33]\n",
     "output_type": "error",
     "traceback": [
      "\u001b[1;31m---------------------------------------------------------------------------\u001b[0m",
      "\u001b[1;31mStaleElementReferenceException\u001b[0m            Traceback (most recent call last)",
      "Input \u001b[1;32mIn [17]\u001b[0m, in \u001b[0;36m<cell line: 1>\u001b[1;34m()\u001b[0m\n\u001b[0;32m      2\u001b[0m page_cards \u001b[38;5;241m=\u001b[39m driver\u001b[38;5;241m.\u001b[39mfind_elements(\u001b[38;5;124m\"\u001b[39m\u001b[38;5;124mxpath\u001b[39m\u001b[38;5;124m\"\u001b[39m, \u001b[38;5;124m'\u001b[39m\u001b[38;5;124m//div[@class=\u001b[39m\u001b[38;5;124m\"\u001b[39m\u001b[38;5;124mcss-1dbjc4n r-1iusvr4 r-16y2uox r-1777fci r-kzbkwu\u001b[39m\u001b[38;5;124m\"\u001b[39m\u001b[38;5;124m]\u001b[39m\u001b[38;5;124m'\u001b[39m)\n\u001b[0;32m      3\u001b[0m \u001b[38;5;28;01mfor\u001b[39;00m card \u001b[38;5;129;01min\u001b[39;00m page_cards[\u001b[38;5;241m-\u001b[39m\u001b[38;5;241m15\u001b[39m:]:\n\u001b[1;32m----> 4\u001b[0m     tweet \u001b[38;5;241m=\u001b[39m \u001b[43mget_tweet\u001b[49m\u001b[43m(\u001b[49m\u001b[43mcard\u001b[49m\u001b[43m)\u001b[49m\n\u001b[0;32m      5\u001b[0m     \u001b[38;5;28;01mif\u001b[39;00m tweet:\n\u001b[0;32m      6\u001b[0m         \u001b[38;5;28mid\u001b[39m \u001b[38;5;241m=\u001b[39m \u001b[38;5;124m'\u001b[39m\u001b[38;5;124m'\u001b[39m\u001b[38;5;241m.\u001b[39mjoin(tweet)\n",
      "Input \u001b[1;32mIn [1]\u001b[0m, in \u001b[0;36mget_tweet\u001b[1;34m(card)\u001b[0m\n\u001b[0;32m     12\u001b[0m \u001b[38;5;28;01mdef\u001b[39;00m \u001b[38;5;21mget_tweet\u001b[39m(card):\n\u001b[0;32m     13\u001b[0m     username \u001b[38;5;241m=\u001b[39m card\u001b[38;5;241m.\u001b[39mfind_element(\u001b[38;5;124m\"\u001b[39m\u001b[38;5;124mxpath\u001b[39m\u001b[38;5;124m\"\u001b[39m, \u001b[38;5;124m'\u001b[39m\u001b[38;5;124m./div[1]//span\u001b[39m\u001b[38;5;124m'\u001b[39m)\u001b[38;5;241m.\u001b[39mtext\n\u001b[1;32m---> 14\u001b[0m     handle \u001b[38;5;241m=\u001b[39m \u001b[43mcard\u001b[49m\u001b[38;5;241;43m.\u001b[39;49m\u001b[43mfind_element\u001b[49m\u001b[43m(\u001b[49m\u001b[38;5;124;43m\"\u001b[39;49m\u001b[38;5;124;43mxpath\u001b[39;49m\u001b[38;5;124;43m\"\u001b[39;49m\u001b[43m,\u001b[49m\u001b[43m \u001b[49m\u001b[38;5;124;43m'\u001b[39;49m\u001b[38;5;124;43m./div[1]//span[contains(text(),\u001b[39;49m\u001b[38;5;124;43m\"\u001b[39;49m\u001b[38;5;124;43m@\u001b[39;49m\u001b[38;5;124;43m\"\u001b[39;49m\u001b[38;5;124;43m)]\u001b[39;49m\u001b[38;5;124;43m'\u001b[39;49m\u001b[43m)\u001b[49m\u001b[38;5;241;43m.\u001b[39;49m\u001b[43mtext\u001b[49m\n\u001b[0;32m     15\u001b[0m     \u001b[38;5;28;01mtry\u001b[39;00m:\n\u001b[0;32m     16\u001b[0m         postdate \u001b[38;5;241m=\u001b[39m card\u001b[38;5;241m.\u001b[39mfind_element(\u001b[38;5;124m\"\u001b[39m\u001b[38;5;124mxpath\u001b[39m\u001b[38;5;124m\"\u001b[39m, \u001b[38;5;124m'\u001b[39m\u001b[38;5;124m./div[1]//time\u001b[39m\u001b[38;5;124m'\u001b[39m)\u001b[38;5;241m.\u001b[39mget_attribute(\u001b[38;5;124m'\u001b[39m\u001b[38;5;124mdatetime\u001b[39m\u001b[38;5;124m'\u001b[39m)\n",
      "File \u001b[1;32m~\\AppData\\Local\\Programs\\Python\\Python310\\lib\\site-packages\\selenium\\webdriver\\remote\\webelement.py:84\u001b[0m, in \u001b[0;36mWebElement.text\u001b[1;34m(self)\u001b[0m\n\u001b[0;32m     81\u001b[0m \u001b[38;5;129m@property\u001b[39m\n\u001b[0;32m     82\u001b[0m \u001b[38;5;28;01mdef\u001b[39;00m \u001b[38;5;21mtext\u001b[39m(\u001b[38;5;28mself\u001b[39m) \u001b[38;5;241m-\u001b[39m\u001b[38;5;241m>\u001b[39m \u001b[38;5;28mstr\u001b[39m:\n\u001b[0;32m     83\u001b[0m     \u001b[38;5;124;03m\"\"\"The text of the element.\"\"\"\u001b[39;00m\n\u001b[1;32m---> 84\u001b[0m     \u001b[38;5;28;01mreturn\u001b[39;00m \u001b[38;5;28;43mself\u001b[39;49m\u001b[38;5;241;43m.\u001b[39;49m\u001b[43m_execute\u001b[49m\u001b[43m(\u001b[49m\u001b[43mCommand\u001b[49m\u001b[38;5;241;43m.\u001b[39;49m\u001b[43mGET_ELEMENT_TEXT\u001b[49m\u001b[43m)\u001b[49m[\u001b[38;5;124m'\u001b[39m\u001b[38;5;124mvalue\u001b[39m\u001b[38;5;124m'\u001b[39m]\n",
      "File \u001b[1;32m~\\AppData\\Local\\Programs\\Python\\Python310\\lib\\site-packages\\selenium\\webdriver\\remote\\webelement.py:396\u001b[0m, in \u001b[0;36mWebElement._execute\u001b[1;34m(self, command, params)\u001b[0m\n\u001b[0;32m    394\u001b[0m     params \u001b[38;5;241m=\u001b[39m {}\n\u001b[0;32m    395\u001b[0m params[\u001b[38;5;124m'\u001b[39m\u001b[38;5;124mid\u001b[39m\u001b[38;5;124m'\u001b[39m] \u001b[38;5;241m=\u001b[39m \u001b[38;5;28mself\u001b[39m\u001b[38;5;241m.\u001b[39m_id\n\u001b[1;32m--> 396\u001b[0m \u001b[38;5;28;01mreturn\u001b[39;00m \u001b[38;5;28;43mself\u001b[39;49m\u001b[38;5;241;43m.\u001b[39;49m\u001b[43m_parent\u001b[49m\u001b[38;5;241;43m.\u001b[39;49m\u001b[43mexecute\u001b[49m\u001b[43m(\u001b[49m\u001b[43mcommand\u001b[49m\u001b[43m,\u001b[49m\u001b[43m \u001b[49m\u001b[43mparams\u001b[49m\u001b[43m)\u001b[49m\n",
      "File \u001b[1;32m~\\AppData\\Local\\Programs\\Python\\Python310\\lib\\site-packages\\selenium\\webdriver\\remote\\webdriver.py:428\u001b[0m, in \u001b[0;36mWebDriver.execute\u001b[1;34m(self, driver_command, params)\u001b[0m\n\u001b[0;32m    426\u001b[0m response \u001b[38;5;241m=\u001b[39m \u001b[38;5;28mself\u001b[39m\u001b[38;5;241m.\u001b[39mcommand_executor\u001b[38;5;241m.\u001b[39mexecute(driver_command, params)\n\u001b[0;32m    427\u001b[0m \u001b[38;5;28;01mif\u001b[39;00m response:\n\u001b[1;32m--> 428\u001b[0m     \u001b[38;5;28;43mself\u001b[39;49m\u001b[38;5;241;43m.\u001b[39;49m\u001b[43merror_handler\u001b[49m\u001b[38;5;241;43m.\u001b[39;49m\u001b[43mcheck_response\u001b[49m\u001b[43m(\u001b[49m\u001b[43mresponse\u001b[49m\u001b[43m)\u001b[49m\n\u001b[0;32m    429\u001b[0m     response[\u001b[38;5;124m'\u001b[39m\u001b[38;5;124mvalue\u001b[39m\u001b[38;5;124m'\u001b[39m] \u001b[38;5;241m=\u001b[39m \u001b[38;5;28mself\u001b[39m\u001b[38;5;241m.\u001b[39m_unwrap_value(\n\u001b[0;32m    430\u001b[0m         response\u001b[38;5;241m.\u001b[39mget(\u001b[38;5;124m'\u001b[39m\u001b[38;5;124mvalue\u001b[39m\u001b[38;5;124m'\u001b[39m, \u001b[38;5;28;01mNone\u001b[39;00m))\n\u001b[0;32m    431\u001b[0m     \u001b[38;5;28;01mreturn\u001b[39;00m response\n",
      "File \u001b[1;32m~\\AppData\\Local\\Programs\\Python\\Python310\\lib\\site-packages\\selenium\\webdriver\\remote\\errorhandler.py:243\u001b[0m, in \u001b[0;36mErrorHandler.check_response\u001b[1;34m(self, response)\u001b[0m\n\u001b[0;32m    241\u001b[0m         alert_text \u001b[38;5;241m=\u001b[39m value[\u001b[38;5;124m'\u001b[39m\u001b[38;5;124malert\u001b[39m\u001b[38;5;124m'\u001b[39m]\u001b[38;5;241m.\u001b[39mget(\u001b[38;5;124m'\u001b[39m\u001b[38;5;124mtext\u001b[39m\u001b[38;5;124m'\u001b[39m)\n\u001b[0;32m    242\u001b[0m     \u001b[38;5;28;01mraise\u001b[39;00m exception_class(message, screen, stacktrace, alert_text)  \u001b[38;5;66;03m# type: ignore[call-arg]  # mypy is not smart enough here\u001b[39;00m\n\u001b[1;32m--> 243\u001b[0m \u001b[38;5;28;01mraise\u001b[39;00m exception_class(message, screen, stacktrace)\n",
      "\u001b[1;31mStaleElementReferenceException\u001b[0m: Message: stale element reference: element is not attached to the page document\n  (Session info: MicrosoftEdge=105.0.1343.27)\nStacktrace:\nBacktrace:\n\tMicrosoft::Applications::Events::EventProperties::SetProperty [0x00007FF6FAB32352+17554]\n\tMicrosoft::Applications::Events::EventProperty::EventProperty [0x00007FF6FAACECA2+1438690]\n\tOrdinal0 [0x00007FF6FA6F9345+627525]\n\tOrdinal0 [0x00007FF6FA6FCA3A+641594]\n\tOrdinal0 [0x00007FF6FA6FC7BB+640955]\n\tOrdinal0 [0x00007FF6FA6FCB70+641904]\n\tOrdinal0 [0x00007FF6FA731E81+859777]\n\tOrdinal0 [0x00007FF6FA753C2A+998442]\n\tOrdinal0 [0x00007FF6FA72B144+831812]\n\tOrdinal0 [0x00007FF6FA753F30+999216]\n\tOrdinal0 [0x00007FF6FA768BF9+1084409]\n\tOrdinal0 [0x00007FF6FA753A43+997955]\n\tOrdinal0 [0x00007FF6FA7294C0+824512]\n\tOrdinal0 [0x00007FF6FA72A9F8+829944]\n\tMicrosoft::Applications::Events::EventProperty::EventProperty [0x00007FF6FA990588+134344]\n\tMicrosoft::Applications::Events::EventProperty::EventProperty [0x00007FF6FA979EB5+42485]\n\tMicrosoft::Applications::Events::EventProperty::EventProperty [0x00007FF6FA97CF9C+55004]\n\tOrdinal0 [0x00007FF6FA7E2E94+1584788]\n\tMicrosoft::Applications::Events::EventProperty::EventProperty [0x00007FF6FAAD43EB+1461035]\n\tMicrosoft::Applications::Events::EventProperty::EventProperty [0x00007FF6FAAD83B4+1477364]\n\tMicrosoft::Applications::Events::EventProperty::EventProperty [0x00007FF6FAAD850D+1477709]\n\tMicrosoft::Applications::Events::EventProperty::EventProperty [0x00007FF6FAAE04D9+1510425]\n\tBaseThreadInitThunk [0x00007FFD8C697034+20]\n\tRtlUserThreadStart [0x00007FFD8D182651+33]\n"
     ]
    }
   ],
   "source": [
    "while scrolling:\n",
    "    page_cards = driver.find_elements(\"xpath\", '//div[@class=\"css-1dbjc4n r-1iusvr4 r-16y2uox r-1777fci r-kzbkwu\"]')\n",
    "    for card in page_cards[-15:]:\n",
    "        tweet = get_tweet(card)\n",
    "        if tweet:\n",
    "            id = ''.join(tweet)\n",
    "            if id not in tweet_ids:\n",
    "                tweet_ids.add(id)\n",
    "                data.append(tweet)\n",
    "    scroll_atmpt = 0\n",
    "    while True:\n",
    "        driver.execute_script('window.scrollTo(0,document.body.scrollHeight);')\n",
    "        sleep(3)\n",
    "        curr_pos = driver.execute_script(\"return window.pageYOffset;\")\n",
    "        if last_pos == curr_pos:\n",
    "            scroll_atmpt += 1\n",
    "            if scroll_atmpt >= 3:\n",
    "                scrolling = False\n",
    "                break\n",
    "            else:\n",
    "                sleep(3)\n",
    "        else:\n",
    "            last_pos = curr_pos\n",
    "            break"
   ]
  },
  {
   "cell_type": "code",
   "execution_count": 18,
   "id": "6f67b619",
   "metadata": {},
   "outputs": [
    {
     "data": {
      "text/plain": [
       "2006"
      ]
     },
     "execution_count": 18,
     "metadata": {},
     "output_type": "execute_result"
    }
   ],
   "source": [
    "len(data)"
   ]
  },
  {
   "cell_type": "code",
   "execution_count": 19,
   "id": "60953d5e",
   "metadata": {},
   "outputs": [],
   "source": [
    "with open('QueenElizabeth.csv', 'w', newline='', encoding='utf-16') as f:\n",
    "    header = ['UserName', 'Handle', 'TimeStamp','Tweet', 'Comments', 'Retweets', 'Likes' ]\n",
    "    writer = csv.writer(f)\n",
    "    writer.writerow(header)\n",
    "    writer.writerows(data)"
   ]
  },
  {
   "cell_type": "code",
   "execution_count": null,
   "id": "5f423056",
   "metadata": {},
   "outputs": [],
   "source": []
  }
 ],
 "metadata": {
  "kernelspec": {
   "display_name": "Python 3 (ipykernel)",
   "language": "python",
   "name": "python3"
  },
  "language_info": {
   "codemirror_mode": {
    "name": "ipython",
    "version": 3
   },
   "file_extension": ".py",
   "mimetype": "text/x-python",
   "name": "python",
   "nbconvert_exporter": "python",
   "pygments_lexer": "ipython3",
   "version": "3.10.4"
  }
 },
 "nbformat": 4,
 "nbformat_minor": 5
}
