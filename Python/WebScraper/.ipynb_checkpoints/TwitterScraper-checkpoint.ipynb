{
 "cells": [
  {
   "cell_type": "code",
   "execution_count": 1,
   "id": "a9dec865",
   "metadata": {},
   "outputs": [
    {
     "name": "stderr",
     "output_type": "stream",
     "text": [
      "C:\\Users\\suraj\\AppData\\Local\\Temp\\ipykernel_16856\\3067763638.py:31: DeprecationWarning: Selenium Tools for Microsoft Edge is deprecated. Please upgrade to Selenium 4 which has built-in support for Microsoft Edge (Chromium): https://docs.microsoft.com/en-us/microsoft-edge/webdriver-chromium/#upgrading-from-selenium-3\n",
      "  driver = Edge(options=options)\n"
     ]
    }
   ],
   "source": [
    "import csv\n",
    "from selenium import webdriver\n",
    "from getpass import getpass\n",
    "from time import sleep\n",
    "from selenium.webdriver.common.keys import Keys\n",
    "from selenium.common.exceptions import NoSuchElementException\n",
    "from msedge.selenium_tools import Edge\n",
    "from msedge.selenium_tools import EdgeOptions\n",
    "\n",
    "\n",
    "# collecting tweets\n",
    "def get_tweet(card):\n",
    "    username = card.find_element(\"xpath\", './div[1]//span').text\n",
    "    handle = card.find_element(\"xpath\", './div[1]//span[contains(text(),\"@\")]').text\n",
    "    try:\n",
    "        postdate = card.find_element(\"xpath\", './div[1]//time').get_attribute('datetime')\n",
    "    except NoSuchElementException:\n",
    "        return\n",
    "    text = card.find_element(\"xpath\", './div[2]/div[1]/div[1]').text\n",
    "    reply_cnt = card.find_element(\"xpath\", './/div[@data-testid=\"reply\"]').text\n",
    "    retweet_cnt = card.find_element(\"xpath\", './/div[@data-testid=\"retweet\"]').text\n",
    "    like_cnt = card.find_element(\"xpath\", './/div[@data-testid=\"like\"]').text\n",
    "\n",
    "    tweet = (username, handle, postdate, text, reply_cnt, retweet_cnt, like_cnt)\n",
    "    return tweet\n",
    "\n",
    "\n",
    "# opening browser\n",
    "options = EdgeOptions()\n",
    "options.use_chromium = True\n",
    "driver = Edge(options=options)\n",
    "\n",
    "# login into tweeter\n",
    "driver.get(\"https://www.twitter.com/login\")\n",
    "driver.maximize_window()\n",
    "sleep(10)\n",
    "username = driver.find_element(\"xpath\", '//input[@name=\"text\"]')\n",
    "username.send_keys('Lalit14561844')\n",
    "username.send_keys(Keys.RETURN)\n",
    "sleep(10)\n",
    "password = driver.find_element(\"xpath\", '//input[@name=\"password\"]')\n",
    "password.send_keys('twitter@2002')\n",
    "password.send_keys(Keys.RETURN)\n",
    "sleep(3)\n",
    "\n",
    "# navigating to the trending page\n",
    "search_input = driver.find_element(\"xpath\", '//input[@aria-label=\"Search query\"]')\n",
    "search_input.send_keys('#DurgaPuja#UNESCO')\n",
    "search_input.send_keys(Keys.RETURN)\n",
    "sleep(3)\n",
    "driver.find_element(\"link text\", \"Latest\").click()\n",
    "sleep(3)\n",
    "\n",
    "# all tweets are in here\n",
    "data = []\n",
    "tweet_ids = set()\n",
    "last_pos = driver.execute_script(\"return window.pageYOffset;\")\n",
    "scrolling = True\n",
    "\n",
    "while scrolling:\n",
    "    page_cards = driver.find_elements(\"xpath\", '//div[@class=\"css-1dbjc4n r-1iusvr4 r-16y2uox r-1777fci r-kzbkwu\"]')\n",
    "    for card in page_cards[-15:]:\n",
    "        tweet = get_tweet(card)\n",
    "        if tweet:\n",
    "            id = ''.join(tweet)\n",
    "            if id not in tweet_ids:\n",
    "                tweet_ids.add(id)\n",
    "                data.append(tweet)\n",
    "    scroll_atmpt = 0\n",
    "    while True:\n",
    "        driver.execute_script('window.scrollTo(0,document.body.scrollHeight);')\n",
    "        sleep(3)\n",
    "        curr_pos = driver.execute_script(\"return window.pageYOffset;\")\n",
    "        if last_pos == curr_pos:\n",
    "            scroll_atmpt += 1\n",
    "            if scroll_atmpt >= 3:\n",
    "                scrolling = False\n",
    "                break\n",
    "            else:\n",
    "                sleep(3)\n",
    "        else:\n",
    "            last_pos = curr_pos\n",
    "            break\n"
   ]
  },
  {
   "cell_type": "code",
   "execution_count": 2,
   "id": "6f67b619",
   "metadata": {},
   "outputs": [
    {
     "data": {
      "text/plain": [
       "52"
      ]
     },
     "execution_count": 2,
     "metadata": {},
     "output_type": "execute_result"
    }
   ],
   "source": [
    "len(data)"
   ]
  },
  {
   "cell_type": "code",
   "execution_count": 3,
   "id": "60953d5e",
   "metadata": {},
   "outputs": [],
   "source": [
    "with open('D1.csv', 'w', newline='', encoding='utf-16') as f:\n",
    "    header = ['UserName', 'Handle', 'TimeStamp', 'Comments', 'Likes', 'Retweets', 'Text']\n",
    "    writer = csv.writer(f)\n",
    "    writer.writerow(header)\n",
    "    writer.writerows(data)"
   ]
  },
  {
   "cell_type": "code",
   "execution_count": null,
   "id": "5f423056",
   "metadata": {},
   "outputs": [],
   "source": []
  }
 ],
 "metadata": {
  "kernelspec": {
   "display_name": "Python 3 (ipykernel)",
   "language": "python",
   "name": "python3"
  },
  "language_info": {
   "codemirror_mode": {
    "name": "ipython",
    "version": 3
   },
   "file_extension": ".py",
   "mimetype": "text/x-python",
   "name": "python",
   "nbconvert_exporter": "python",
   "pygments_lexer": "ipython3",
   "version": "3.10.4"
  }
 },
 "nbformat": 4,
 "nbformat_minor": 5
}
