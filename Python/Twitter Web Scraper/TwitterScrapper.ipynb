{
 "cells": [
  {
   "cell_type": "code",
   "execution_count": 2,
   "id": "50299a27",
   "metadata": {},
   "outputs": [],
   "source": [
    "import time\n",
    "from selenium.webdriver.common.keys import Keys\n",
    "from selenium.webdriver.common.action_chains import ActionChains\n",
    "from selenium.webdriver.common.by import By\n",
    "from selenium import webdriver\n",
    "\n",
    "driver = webdriver.Edge()\n",
    "driver.maximize_window()\n",
    "actions = ActionChains(driver)\n",
    "driver.get(\"https://twitter.com/login?lang=en\")\n",
    "time.sleep(5)\n",
    "#@Suraj092667125\n",
    "#msit@2023\n",
    "\n",
    "username = driver.find_element(By.XPATH, \"//input[@autocomplete='username']\")\n",
    "username.send_keys(\"Suraj092667125\")\n",
    "driver.find_element(By.XPATH, \"//span[.='Next']\").click()\n",
    "time.sleep(2)\n",
    "password = driver.find_element(By.XPATH, \"//input[@name='password']\")\n",
    "password.send_keys(\"msit@2023\")\n",
    "driver.find_element(By.XPATH, \"//span[.='Log in']\").click()\n",
    "time.sleep(2)\n",
    "search = driver.find_element(By.XPATH,\"//input[@enterkeyhint='search']\")\n",
    "search.send_keys('Adani',Keys.ENTER)\n",
    "\n",
    "# search.send_keys(Keys.ENTER)\n",
    "time.sleep(1)\n",
    "driver.find_element(By.XPATH, \"//span[.='Latest']\").click()"
   ]
  },
  {
   "cell_type": "code",
   "execution_count": 14,
   "id": "e5938acc",
   "metadata": {},
   "outputs": [
    {
     "data": {
      "text/plain": [
       "'143'"
      ]
     },
     "execution_count": 14,
     "metadata": {},
     "output_type": "execute_result"
    }
   ],
   "source": [
    "page = driver.find_elements(By.XPATH,\"//article[@data-testid='tweet']\")\n",
    "card = page[0]\n",
    "card.find_element(By.XPATH,\".//span\").text #username\n",
    "# card.find_element(By.XPATH,\".//div[@data-testid='User-Name']/div[2]//span\").text #user-handle \n",
    "card.find_element(By.XPATH,\".//span[contains(text(),'@')]\").text #user-handle \n",
    "card.find_element(By.XPATH,\".//time\").get_attribute(\"datetime\") #Date and time\n",
    "card.find_element(By.XPATH,\".//div[@data-testid='tweetText']\").text.replace(\"\\n\",\" \") #Content\n",
    "# len(page)\n",
    "# page[0].text\n",
    "card.find_element(By.XPATH,\"//div[@data-testid='reply']//span[@data-testid='app-text-transition-container']/span/span\").text #Reply count\n",
    "card.find_element(By.XPATH,\"//div[@data-testid='retweet']//span[@data-testid='app-text-transition-container']/span/span\").text #Retweet count\n",
    "card.find_element(By.XPATH,\"//div[@data-testid='like']//span[@data-testid='app-text-transition-container']/span/span\").text #Like count\n",
    "# len(page)"
   ]
  },
  {
   "cell_type": "code",
   "execution_count": null,
   "id": "213b73fa",
   "metadata": {},
   "outputs": [],
   "source": []
  }
 ],
 "metadata": {
  "kernelspec": {
   "display_name": "Python 3",
   "language": "python",
   "name": "python3"
  },
  "language_info": {
   "codemirror_mode": {
    "name": "ipython",
    "version": 3
   },
   "file_extension": ".py",
   "mimetype": "text/x-python",
   "name": "python",
   "nbconvert_exporter": "python",
   "pygments_lexer": "ipython3",
   "version": "3.11.2"
  },
  "vscode": {
   "interpreter": {
    "hash": "9aa7ac7ab6e4386eb527c3467cff4758cc2902e553eb4f5a191900be6919d19d"
   }
  }
 },
 "nbformat": 4,
 "nbformat_minor": 5
}
